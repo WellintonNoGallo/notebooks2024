{
 "cells": [
  {
   "cell_type": "markdown",
   "metadata": {},
   "source": [
    "# Como compartilhar meu notebook\n",
    "\n",
    "Git e GitHub : com essa parceria você pode compartilhar com o mundo os seus notebooks.\n",
    "\n",
    "1. <b>Criar uma conta</b>\n",
    "2. <b>Criar um repositório</b>\n",
    "3. <b>Instalar o GitHub</b>\n",
    "4. <b>Sincronizar o local com remoto</b>\n",
    "5. Subir o seu projeto \n",
    "\n",
    "links úteis\n",
    "\n",
    "Git : https://www.git-scm.com/downloads\n",
    "\n",
    "GitHub : https://github.com/\n",
    "\n",
    "# Comandos básidos do Git\n",
    "\n",
    "1. <b>git init</b>: inicializa o git\n",
    "2. <b>git add.</b>: adiciona arquivos \n",
    "3. <b>git commit-m \"salvando arquivos\"</b>: salvar como\n",
    "\n",
    "\n"
   ]
  }
 ],
 "metadata": {
  "language_info": {
   "name": "python"
  },
  "orig_nbformat": 4
 },
 "nbformat": 4,
 "nbformat_minor": 2
}
